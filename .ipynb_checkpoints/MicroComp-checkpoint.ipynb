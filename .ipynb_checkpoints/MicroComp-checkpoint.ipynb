{
 "cells": [
  {
   "cell_type": "code",
   "execution_count": 21,
   "id": "a529063d-ce55-4043-8399-3a830d957619",
   "metadata": {},
   "outputs": [],
   "source": [
    "import numpy as np\n",
    "import matplotlib.pyplot as plt\n",
    "from PIL import Image"
   ]
  },
  {
   "cell_type": "code",
   "execution_count": 22,
   "id": "17ae2d63-2e27-437e-88a4-1bb9af34e57d",
   "metadata": {},
   "outputs": [],
   "source": [
    "image = Image.open('2D_small.tif').convert('L')\n",
    "image_array = np.array(image)"
   ]
  },
  {
   "cell_type": "code",
   "execution_count": 23,
   "id": "fe4ffdaa-7695-4b75-9ee4-540587ef80ce",
   "metadata": {},
   "outputs": [],
   "source": [
    "hist, bin_edges = np.histogram(image_array.flatten(), bins=256, range=(0, 255))\n",
    "bin_centers = (bin_edges[:-1] + bin_edges[1:]) / 2.0"
   ]
  },
  {
   "cell_type": "code",
   "execution_count": 25,
   "id": "807f9cfd-9a32-4557-b5b7-70aef3740033",
   "metadata": {},
   "outputs": [
    {
     "name": "stdout",
     "output_type": "stream",
     "text": [
      "Equal Masses Threshold: 157.880859375\n"
     ]
    }
   ],
   "source": [
    "# Compute the histogram of the image\n",
    "hist, bin_edges = np.histogram(image_array.flatten(), bins=256, range=(0, 255))\n",
    "bin_centers = (bin_edges[:-1] + bin_edges[1:]) / 2.0\n",
    "\n",
    "# Total number of pixels\n",
    "total_pixels = image_array.size\n",
    "\n",
    "# Equal Masses Thresholding\n",
    "# Calculate the cumulative histogram\n",
    "cum_hist = np.cumsum(hist)\n",
    "\n",
    "# Find the intensity where cumulative histogram reaches half of total pixels\n",
    "half_total = total_pixels / 2\n",
    "\n",
    "# Get indices where cumulative histogram is greater than or equal to half_total\n",
    "indices = np.where(cum_hist >= half_total)\n",
    "\n",
    "# Extract the array of indices from the tuple\n",
    "indices_array = indices[0]\n",
    "\n",
    "# Get the first index where the condition is met\n",
    "equal_mass_index = indices_array[0]\n",
    "\n",
    "# Find the corresponding intensity value (threshold)\n",
    "equal_mass_threshold = bin_centers[equal_mass_index]\n",
    "print(f'Equal Masses Threshold: {equal_mass_threshold}')\n"
   ]
  },
  {
   "cell_type": "code",
   "execution_count": 26,
   "id": "3ff27a04-45d9-4b5c-9d91-c2096de65e60",
   "metadata": {},
   "outputs": [
    {
     "name": "stdout",
     "output_type": "stream",
     "text": [
      "Mean Iteration Threshold: 195.66057716992958\n"
     ]
    }
   ],
   "source": [
    "# Mean Iteration Thresholding\n",
    "\n",
    "# Initialize the threshold T to the mean intensity of the image\n",
    "T = image_array.mean()  # Starting threshold\n",
    "tolerance = 0.5         # Tolerance level for convergence\n",
    "delta_T = np.inf        # Initialize the change in threshold to infinity\n",
    "\n",
    "# Start the iteration process\n",
    "while delta_T > tolerance:\n",
    "    # Separate pixels into two groups based on the current threshold T\n",
    "    lower_group = image_array[image_array <= T]  # Pixels with intensity <= T\n",
    "    upper_group = image_array[image_array > T]   # Pixels with intensity > T\n",
    "\n",
    "    # Calculate the mean intensity of each group\n",
    "    if lower_group.size > 0:\n",
    "        mean_lower = lower_group.mean()\n",
    "    else:\n",
    "        mean_lower = 0  # If the group is empty, set mean to 0\n",
    "\n",
    "    if upper_group.size > 0:\n",
    "        mean_upper = upper_group.mean()\n",
    "    else:\n",
    "        mean_upper = 0  # If the group is empty, set mean to 0\n",
    "\n",
    "    # Update the threshold to the average of the means of the two groups\n",
    "    T_new = (mean_lower + mean_upper) / 2\n",
    "\n",
    "    # Calculate the change in threshold\n",
    "    delta_T = abs(T_new - T)\n",
    "\n",
    "    # Update threshold for the next iteration\n",
    "    T = T_new\n",
    "\n",
    "# After convergence, assign the final threshold value\n",
    "mean_iter_threshold = T\n",
    "print(f'Mean Iteration Threshold: {mean_iter_threshold}')\n"
   ]
  },
  {
   "cell_type": "code",
   "execution_count": null,
   "id": "287fa756-4f71-4da4-9b24-7982fe31dc82",
   "metadata": {},
   "outputs": [],
   "source": [
    "# Otsu's Thresholding\n",
    "\n",
    "# Normalize the histogram to get the probability of each intensity level\n",
    "probabilities = hist / total_pixels  # Each element represents the probability of that intensity\n",
    "\n",
    "# Compute cumulative sums for class probabilities (omega) and class means (mu)\n",
    "omega = np.cumsum(probabilities)                # Cumulative sum of probabilities up to each intensity\n",
    "mu = np.cumsum(probabilities * bin_centers)     # Cumulative sum of (probability * intensity)\n",
    "\n",
    "# Compute the total mean intensity of the image\n",
    "mu_total = mu[-1]  # The last element of mu represents the total mean\n",
    "\n",
    "# Compute between-class variance for all possible thresholds\n",
    "sigma_b_squared = (mu_total * omega - mu) ** 2 / (omega * (1 - omega) + 1e-6)\n",
    "\n",
    "# Find the threshold that maximizes the between-class variance\n",
    "otsu_index = np.argmax(sigma_b_squared)       # Index where sigma_b_squared is maximum\n",
    "otsu_threshold = bin_centers[otsu_index]      # Corresponding intensity value\n",
    "\n",
    "print(f\"Otsu's Threshold: {otsu_threshold}\")\n"
   ]
  },
  {
   "cell_type": "code",
   "execution_count": null,
   "id": "4be7c76d-0da0-44a4-bebe-c1b532d7142c",
   "metadata": {},
   "outputs": [],
   "source": []
  }
 ],
 "metadata": {
  "kernelspec": {
   "display_name": "Python 3 (ipykernel)",
   "language": "python",
   "name": "python3"
  },
  "language_info": {
   "codemirror_mode": {
    "name": "ipython",
    "version": 3
   },
   "file_extension": ".py",
   "mimetype": "text/x-python",
   "name": "python",
   "nbconvert_exporter": "python",
   "pygments_lexer": "ipython3",
   "version": "3.11.10"
  }
 },
 "nbformat": 4,
 "nbformat_minor": 5
}
