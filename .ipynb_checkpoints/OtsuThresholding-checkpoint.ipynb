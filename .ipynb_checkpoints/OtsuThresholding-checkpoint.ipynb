{
 "cells": [
  {
   "cell_type": "code",
   "execution_count": 5,
   "id": "91614823-f563-4d7b-ab6e-3592d5f084cd",
   "metadata": {},
   "outputs": [
    {
     "name": "stdout",
     "output_type": "stream",
     "text": [
      "Original image shape: (278, 278)\n"
     ]
    }
   ],
   "source": [
    "import matplotlib.pyplot as plt\n",
    "from skimage import data, filters, io\n",
    "import numpy as np\n",
    "\n",
    "# Option 1: Using scikit-image\n",
    "#image = io.imread('/home/jovyan/least squares/test_deconv/matlab_decon_omw_wienerAlpha0.095789/CamB_ch0_mito_simulated_raw_Confocal_1AU_px_108nm_0lambda_snr_64.tif')\n",
    "\n",
    "# Or Option 2: Using PIL\n",
    "from PIL import Image\n",
    "import numpy as np\n",
    "image = np.array(Image.open('/home/jovyan/least squares/test_deconv/matlab_decon_omw_wienerAlpha0.095789/CamB_ch0_mito_simulated_raw_Confocal_1AU_px_108nm_0lambda_snr_64.tif'))\n",
    "\n",
    "print(f\"Original image shape: {image.shape}\")\n",
    "\n",
    "# Global threshold for entire stack\n",
    "global_threshold = filters.threshold_otsu(image)\n",
    "binary_stack_global = image > global_threshold\n",
    "\n",
    "# Slice-by-slice thresholding\n",
    "binary_stack_local = np.zeros_like(image, dtype=bool)\n",
    "for z in range(image.shape[0]):\n",
    "    threshold = filters.threshold_otsu(image[z])\n",
    "    binary_stack_local[z] = image[z] > threshold\n",
    "\n",
    "# Save using scikit-image's io\n",
    "binary_uint8_global = (binary_stack_global * 255).astype('uint8')\n",
    "binary_uint8_local = (binary_stack_local * 255).astype('uint8')\n",
    "io.imsave('thresholded_3D_global.tif', binary_uint8_global)\n",
    "io.imsave('thresholded_3D_local.tif', binary_uint8_local)"
   ]
  }
 ],
 "metadata": {
  "kernelspec": {
   "display_name": "Python 3 (ipykernel)",
   "language": "python",
   "name": "python3"
  },
  "language_info": {
   "codemirror_mode": {
    "name": "ipython",
    "version": 3
   },
   "file_extension": ".py",
   "mimetype": "text/x-python",
   "name": "python",
   "nbconvert_exporter": "python",
   "pygments_lexer": "ipython3",
   "version": "3.11.0"
  }
 },
 "nbformat": 4,
 "nbformat_minor": 5
}
